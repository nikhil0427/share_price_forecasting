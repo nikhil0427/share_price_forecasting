{
 "cells": [
  {
   "cell_type": "code",
   "execution_count": null,
   "metadata": {
    "id": "8YzlszdQytrv"
   },
   "outputs": [],
   "source": [
    "import pandas as pd\n",
    "import numpy as np\n",
    "import matplotlib.pyplot as plt\n",
    "import prophet as fbp\n",
    "from sklearn.metrics import mean_squared_error, mean_absolute_error\n",
    "\n",
    "# Use fivethirtyeight plot style\n",
    "plt.style.use('fivethirtyeight')\n",
    "# We are using Amazon share price which can be downloaded from Yahoo finance.\n",
    "df = pd.read_csv('AMZN.csv')\n",
    "df.head()\n",
    "# add two columns in dataframe having values as Date and Adj Close\n",
    "df[['ds', 'y']] = df[['Date', 'Adj Close']]\n",
    "\n",
    "# Subset two columns from data frame\n",
    "df = df[['ds', 'y']]\n",
    "\n",
    "df.head()\n",
    "# split data frame into two parts train and test\n",
    "split_date = \"2019-07-21\"\n",
    "df_train = df.loc[df.ds <= split_date].copy()\n",
    "df_test = df.loc[df.ds > split_date].copy()\n",
    "# Instantiate prophet\n",
    "model = fbp.Prophet()\n",
    "\n",
    "# fit the training data\n",
    "model.fit(df_train)\n",
    "# Use trained model to predict the outcome\n",
    "forecast = model.predict(df_test)\n",
    "# Output the last five rows\n",
    "forecast.tail()\n",
    "model.plot(forecast)\n",
    "# plot graphs of different components:\n",
    "model.plot_components(forecast)\n",
    "print(\"Mean Squared Error (MSE):\", mean_squared_error(y_true = df_test[\"y\"], y_pred = forecast['yhat']))\n",
    "print(\"Mean Absolute Error (MAE):\", mean_absolute_error(y_true = df_test[\"y\"], y_pred = forecast['yhat']))\n",
    "def mean_abs_perc_err(y_true, y_pred):\n",
    "\treturn np.mean(np.abs((y_true - y_pred) / y_true)) * 100\n",
    "\n",
    "print(\"Mean Absolute Percentage Error (MAPE): \", mean_abs_perc_err(y_true = np.asarray(df_test[\"y\"]), y_pred = np.asarray(forecast['yhat'])))"
   ]
  }
 ],
 "metadata": {
  "colab": {
   "provenance": []
  },
  "kernelspec": {
   "display_name": "Python 3 (ipykernel)",
   "language": "python",
   "name": "python3"
  },
  "language_info": {
   "codemirror_mode": {
    "name": "ipython",
    "version": 3
   },
   "file_extension": ".py",
   "mimetype": "text/x-python",
   "name": "python",
   "nbconvert_exporter": "python",
   "pygments_lexer": "ipython3",
   "version": "3.13.2"
  }
 },
 "nbformat": 4,
 "nbformat_minor": 4
}
